{
 "cells": [
  {
   "cell_type": "markdown",
   "id": "c4c48e2c",
   "metadata": {},
   "source": [
    "---\n",
    "## Working v2 Code Cells"
   ]
  },
  {
   "cell_type": "code",
   "execution_count": 1,
   "id": "436443bc",
   "metadata": {},
   "outputs": [
    {
     "name": "stdout",
     "output_type": "stream",
     "text": [
      "Constants set. SRC_GLOB = demo-bucket/warehouse/finance/yahoo/curated_price/date=*/part-*.parquet\n"
     ]
    }
   ],
   "source": [
    "# 0) Constants and engine (v2 layout)\n",
    "import pandas as pd, numpy as np, s3fs, re\n",
    "from sqlalchemy.engine import create_engine\n",
    "\n",
    "FS_OPTS = {\n",
    "    \"key\": \"minio-root-user\",\n",
    "    \"secret\": \"minio-root-password\",\n",
    "    \"client_kwargs\": {\"endpoint_url\": \"http://minio:9000\"},\n",
    "}\n",
    "SRC_GLOB = \"demo-bucket/warehouse/finance/yahoo/curated_price/date=*/part-*.parquet\"\n",
    "ENGINE = create_engine(\"trino://user@trino:8080/iceberg/curated\")\n",
    "print(\"Constants set. SRC_GLOB =\", SRC_GLOB)"
   ]
  },
  {
   "cell_type": "code",
   "execution_count": 2,
   "id": "6c97f7e9",
   "metadata": {},
   "outputs": [
    {
     "name": "stdout",
     "output_type": "stream",
     "text": [
      "Rows loaded: 152  Columns: ['ts', 'adj close', 'close', 'high', 'low', 'open', 'volume', 'ticker', 'ingest_date', 'date']\n"
     ]
    }
   ],
   "source": [
    "# 1) Load curated Parquet (v2 path/partition), Pandas only\n",
    "fs = s3fs.S3FileSystem(**FS_OPTS)\n",
    "paths = fs.glob(SRC_GLOB)\n",
    "if not paths:\n",
    "    raise RuntimeError(f\"No files found at s3://{SRC_GLOB}\")\n",
    "df = pd.concat([pd.read_parquet(f\"s3://{p}\", storage_options=FS_OPTS) for p in paths], ignore_index=True)\n",
    "df.columns = [c.strip() for c in df.columns]\n",
    "print(\"Rows loaded:\", len(df), \" Columns:\", list(df.columns))"
   ]
  },
  {
   "cell_type": "code",
   "execution_count": 3,
   "id": "a6453808",
   "metadata": {},
   "outputs": [
    {
     "data": {
      "text/html": [
       "<div>\n",
       "<style scoped>\n",
       "    .dataframe tbody tr th:only-of-type {\n",
       "        vertical-align: middle;\n",
       "    }\n",
       "\n",
       "    .dataframe tbody tr th {\n",
       "        vertical-align: top;\n",
       "    }\n",
       "\n",
       "    .dataframe thead th {\n",
       "        text-align: right;\n",
       "    }\n",
       "</style>\n",
       "<table border=\"1\" class=\"dataframe\">\n",
       "  <thead>\n",
       "    <tr style=\"text-align: right;\">\n",
       "      <th></th>\n",
       "      <th>ticker</th>\n",
       "      <th>avg_close</th>\n",
       "    </tr>\n",
       "  </thead>\n",
       "  <tbody>\n",
       "    <tr>\n",
       "      <th>0</th>\n",
       "      <td>AAPL</td>\n",
       "      <td>231.261577</td>\n",
       "    </tr>\n",
       "    <tr>\n",
       "      <th>1</th>\n",
       "      <td>AMZN</td>\n",
       "      <td>227.850000</td>\n",
       "    </tr>\n",
       "    <tr>\n",
       "      <th>2</th>\n",
       "      <td>GOOGL</td>\n",
       "      <td>209.491580</td>\n",
       "    </tr>\n",
       "    <tr>\n",
       "      <th>3</th>\n",
       "      <td>MSFT</td>\n",
       "      <td>510.584736</td>\n",
       "    </tr>\n",
       "  </tbody>\n",
       "</table>\n",
       "</div>"
      ],
      "text/plain": [
       "  ticker   avg_close\n",
       "0   AAPL  231.261577\n",
       "1   AMZN  227.850000\n",
       "2  GOOGL  209.491580\n",
       "3   MSFT  510.584736"
      ]
     },
     "execution_count": 3,
     "metadata": {},
     "output_type": "execute_result"
    }
   ],
   "source": [
    "# 2) Pandas mean(close) by ticker\n",
    "means_py = (\n",
    "    df.assign(close=pd.to_numeric(df[\"close\"], errors=\"coerce\"))\n",
    "      .dropna(subset=[\"close\"])\n",
    "      .groupby(\"ticker\", as_index=False)[\"close\"]\n",
    "      .mean()\n",
    "      .rename(columns={\"close\":\"avg_close\"})\n",
    "      .sort_values(\"ticker\")\n",
    "      .reset_index(drop=True)\n",
    ")\n",
    "means_py.head(20)"
   ]
  },
  {
   "cell_type": "code",
   "execution_count": 4,
   "id": "ccbbacb7",
   "metadata": {},
   "outputs": [
    {
     "name": "stdout",
     "output_type": "stream",
     "text": [
      "Schema/table ensured.\n"
     ]
    }
   ],
   "source": [
    "# 3) Ensure schema & table (Iceberg via Trino)\n",
    "with ENGINE.begin() as conn:\n",
    "    conn.exec_driver_sql(\"CREATE SCHEMA IF NOT EXISTS iceberg.curated\")\n",
    "    conn.exec_driver_sql(\"\"\"CREATE TABLE IF NOT EXISTS fact_price (\n",
    "  ticker VARCHAR,\n",
    "  ts TIMESTAMP(3) WITH TIME ZONE,\n",
    "  open DOUBLE, high DOUBLE, low DOUBLE, close DOUBLE,\n",
    "  volume BIGINT,\n",
    "  ingest_date VARCHAR\n",
    ") WITH (partitioning = ARRAY['day(ts)'])\n",
    "\"\"\")\n",
    "print(\"Schema/table ensured.\")"
   ]
  },
  {
   "cell_type": "code",
   "execution_count": 5,
   "id": "61d90715",
   "metadata": {},
   "outputs": [
    {
     "name": "stdout",
     "output_type": "stream",
     "text": [
      "Inserted rows: 152\n"
     ]
    }
   ],
   "source": [
    "# 4) Insert into Iceberg in chunks (from v2 curated Parquet)\n",
    "def sql_literal(s: str) -> str:\n",
    "    return str(s).replace(\"'\", \"''\")\n",
    "\n",
    "use = df[[\"ticker\",\"ts\",\"open\",\"high\",\"low\",\"close\",\"volume\",\"ingest_date\"]].copy()\n",
    "use[\"ts\"] = pd.to_datetime(use[\"ts\"], utc=True)\n",
    "for c in [\"open\",\"high\",\"low\",\"close\"]:\n",
    "    use[c] = pd.to_numeric(use[c], errors=\"coerce\")\n",
    "use[\"volume\"] = pd.to_numeric(use[\"volume\"], errors=\"coerce\").astype(\"Int64\")\n",
    "use[\"ingest_date\"] = use[\"ingest_date\"].astype(str)\n",
    "\n",
    "rows, chunk = 0, 400\n",
    "for part in np.array_split(use, max(1, int(np.ceil(len(use)/chunk)))):\n",
    "    if part.empty:\n",
    "        continue\n",
    "    values = []\n",
    "    for _, r in part.iterrows():\n",
    "        ts_iso = pd.to_datetime(r[\"ts\"], utc=True).isoformat()\n",
    "        values.append(\"(\"\n",
    "          f\"'{sql_literal(r['ticker'])}', \"\n",
    "          f\"from_iso8601_timestamp('{sql_literal(ts_iso)}'), \"\n",
    "          f\"{'NULL' if pd.isna(r['open']) else r['open']}, \"\n",
    "          f\"{'NULL' if pd.isna(r['high']) else r['high']}, \"\n",
    "          f\"{'NULL' if pd.isna(r['low']) else r['low']}, \"\n",
    "          f\"{'NULL' if pd.isna(r['close']) else r['close']}, \"\n",
    "          f\"{'NULL' if pd.isna(r['volume']) else int(r['volume'])}, \"\n",
    "          f\"'{sql_literal(r['ingest_date'])}'\"\n",
    "        \")\")\n",
    "    sql = \"INSERT INTO fact_price (ticker, ts, open, high, low, close, volume, ingest_date) VALUES \" + \",\".join(values)\n",
    "    with ENGINE.begin() as conn:\n",
    "        conn.exec_driver_sql(sql)\n",
    "    rows += len(values)\n",
    "print(\"Inserted rows:\", rows)"
   ]
  },
  {
   "cell_type": "code",
   "execution_count": 6,
   "id": "7f838806",
   "metadata": {},
   "outputs": [
    {
     "data": {
      "text/html": [
       "<div>\n",
       "<style scoped>\n",
       "    .dataframe tbody tr th:only-of-type {\n",
       "        vertical-align: middle;\n",
       "    }\n",
       "\n",
       "    .dataframe tbody tr th {\n",
       "        vertical-align: top;\n",
       "    }\n",
       "\n",
       "    .dataframe thead th {\n",
       "        text-align: right;\n",
       "    }\n",
       "</style>\n",
       "<table border=\"1\" class=\"dataframe\">\n",
       "  <thead>\n",
       "    <tr style=\"text-align: right;\">\n",
       "      <th></th>\n",
       "      <th>ticker</th>\n",
       "      <th>avg_close_py</th>\n",
       "      <th>avg_close_sql</th>\n",
       "      <th>diff</th>\n",
       "    </tr>\n",
       "  </thead>\n",
       "  <tbody>\n",
       "    <tr>\n",
       "      <th>0</th>\n",
       "      <td>AAPL</td>\n",
       "      <td>231.261577</td>\n",
       "      <td>231.261577</td>\n",
       "      <td>0.0</td>\n",
       "    </tr>\n",
       "    <tr>\n",
       "      <th>1</th>\n",
       "      <td>AMZN</td>\n",
       "      <td>227.850000</td>\n",
       "      <td>227.850000</td>\n",
       "      <td>0.0</td>\n",
       "    </tr>\n",
       "    <tr>\n",
       "      <th>2</th>\n",
       "      <td>GOOGL</td>\n",
       "      <td>209.491580</td>\n",
       "      <td>209.491580</td>\n",
       "      <td>0.0</td>\n",
       "    </tr>\n",
       "    <tr>\n",
       "      <th>3</th>\n",
       "      <td>MSFT</td>\n",
       "      <td>510.584736</td>\n",
       "      <td>510.584736</td>\n",
       "      <td>0.0</td>\n",
       "    </tr>\n",
       "  </tbody>\n",
       "</table>\n",
       "</div>"
      ],
      "text/plain": [
       "  ticker  avg_close_py  avg_close_sql  diff\n",
       "0   AAPL    231.261577     231.261577   0.0\n",
       "1   AMZN    227.850000     227.850000   0.0\n",
       "2  GOOGL    209.491580     209.491580   0.0\n",
       "3   MSFT    510.584736     510.584736   0.0"
      ]
     },
     "execution_count": 6,
     "metadata": {},
     "output_type": "execute_result"
    }
   ],
   "source": [
    "# 5) SQL verification and compare with Pandas\n",
    "with ENGINE.connect() as conn:\n",
    "    res = conn.exec_driver_sql(\"\"\"        SELECT ticker, AVG(close) AS avg_close\n",
    "        FROM fact_price\n",
    "        GROUP BY ticker\n",
    "        ORDER BY ticker\n",
    "    \"\"\").fetchall()\n",
    "means_sql = pd.DataFrame(res, columns=[\"ticker\",\"avg_close\"]).sort_values(\"ticker\").reset_index(drop=True)\n",
    "\n",
    "cmp = means_py.merge(means_sql, on=\"ticker\", how=\"outer\", suffixes=(\"_py\",\"_sql\"))\n",
    "cmp[\"diff\"] = (cmp[\"avg_close_py\"] - cmp[\"avg_close_sql\"]).abs()\n",
    "cmp.head(20)"
   ]
  },
  {
   "cell_type": "code",
   "execution_count": null,
   "id": "3ded23ec-b4cb-409e-8818-d102e74f1d72",
   "metadata": {},
   "outputs": [],
   "source": []
  }
 ],
 "metadata": {
  "kernelspec": {
   "display_name": "Python 3 (ipykernel)",
   "language": "python",
   "name": "python3"
  },
  "language_info": {
   "codemirror_mode": {
    "name": "ipython",
    "version": 3
   },
   "file_extension": ".py",
   "mimetype": "text/x-python",
   "name": "python",
   "nbconvert_exporter": "python",
   "pygments_lexer": "ipython3",
   "version": "3.11.10"
  }
 },
 "nbformat": 4,
 "nbformat_minor": 5
}
