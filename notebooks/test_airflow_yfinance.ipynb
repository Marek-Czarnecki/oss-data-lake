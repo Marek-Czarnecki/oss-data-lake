{
 "cells": [
  {
   "cell_type": "code",
   "execution_count": 1,
   "id": "d82af8ac-04d1-4c97-9c89-7857bc8ad722",
   "metadata": {},
   "outputs": [
    {
     "name": "stdout",
     "output_type": "stream",
     "text": [
      "Collecting boto3\n",
      "  Downloading boto3-1.40.11-py3-none-any.whl.metadata (6.7 kB)\n",
      "Requirement already satisfied: pandas in /opt/conda/lib/python3.11/site-packages (2.0.3)\n",
      "Collecting botocore<1.41.0,>=1.40.11 (from boto3)\n",
      "  Downloading botocore-1.40.11-py3-none-any.whl.metadata (5.7 kB)\n",
      "Collecting jmespath<2.0.0,>=0.7.1 (from boto3)\n",
      "  Downloading jmespath-1.0.1-py3-none-any.whl.metadata (7.6 kB)\n",
      "Collecting s3transfer<0.14.0,>=0.13.0 (from boto3)\n",
      "  Downloading s3transfer-0.13.1-py3-none-any.whl.metadata (1.7 kB)\n",
      "Requirement already satisfied: python-dateutil>=2.8.2 in /opt/conda/lib/python3.11/site-packages (from pandas) (2.9.0)\n",
      "Requirement already satisfied: pytz>=2020.1 in /opt/conda/lib/python3.11/site-packages (from pandas) (2024.1)\n",
      "Requirement already satisfied: tzdata>=2022.1 in /opt/conda/lib/python3.11/site-packages (from pandas) (2024.2)\n",
      "Requirement already satisfied: numpy>=1.21.0 in /opt/conda/lib/python3.11/site-packages (from pandas) (1.26.4)\n",
      "Requirement already satisfied: urllib3!=2.2.0,<3,>=1.25.4 in /opt/conda/lib/python3.11/site-packages (from botocore<1.41.0,>=1.40.11->boto3) (2.2.3)\n",
      "Requirement already satisfied: six>=1.5 in /opt/conda/lib/python3.11/site-packages (from python-dateutil>=2.8.2->pandas) (1.16.0)\n",
      "Downloading boto3-1.40.11-py3-none-any.whl (140 kB)\n",
      "Downloading botocore-1.40.11-py3-none-any.whl (14.0 MB)\n",
      "\u001b[2K   \u001b[90m━━━━━━━━━━━━━━━━━━━━━━━━━━━━━━━━━━━━━━━━\u001b[0m \u001b[32m14.0/14.0 MB\u001b[0m \u001b[31m6.3 MB/s\u001b[0m eta \u001b[36m0:00:00\u001b[0m00:01\u001b[0m00:01\u001b[0m\n",
      "\u001b[?25hDownloading jmespath-1.0.1-py3-none-any.whl (20 kB)\n",
      "Downloading s3transfer-0.13.1-py3-none-any.whl (85 kB)\n",
      "Installing collected packages: jmespath, botocore, s3transfer, boto3\n",
      "Successfully installed boto3-1.40.11 botocore-1.40.11 jmespath-1.0.1 s3transfer-0.13.1\n"
     ]
    },
    {
     "data": {
      "text/plain": [
       "'finance/yahoo/daily/ingest_date=2025-08-18/'"
      ]
     },
     "execution_count": 1,
     "metadata": {},
     "output_type": "execute_result"
    }
   ],
   "source": [
    "!pip install boto3 pandas\n",
    "\n",
    "import os, re, boto3, pandas as pd\n",
    "\n",
    "MINIO_ENDPOINT = os.getenv(\"MINIO_ENDPOINT\", \"http://minio:9000\")\n",
    "MINIO_BUCKET   = os.getenv(\"MINIO_BUCKET\", \"demo-bucket\")\n",
    "MINIO_KEY      = os.getenv(\"MINIO_KEY\", \"minio-root-user\")        # MINIO_ROOT_USER\n",
    "MINIO_SECRET   = os.getenv(\"MINIO_SECRET\", \"minio-root-password\")     # MINIO_ROOT_PASSWORD\n",
    "\n",
    "s3 = boto3.client(\n",
    "    \"s3\",\n",
    "    aws_access_key_id=MINIO_KEY,\n",
    "    aws_secret_access_key=MINIO_SECRET,\n",
    "    endpoint_url=MINIO_ENDPOINT,\n",
    ")\n",
    "\n",
    "resp = s3.list_objects_v2(\n",
    "    Bucket=MINIO_BUCKET,\n",
    "    Prefix=\"finance/yahoo/daily/\",\n",
    "    Delimiter=\"/\",\n",
    ")\n",
    "\n",
    "prefixes = [cp[\"Prefix\"] for cp in resp.get(\"CommonPrefixes\", [])]\n",
    "latest = sorted([p for p in prefixes if re.search(r\"ingest_date=\\d{4}-\\d{2}-\\d{2}/$\", p)])[-1]\n",
    "latest\n"
   ]
  },
  {
   "cell_type": "code",
   "execution_count": 2,
   "id": "242bb1e1-87d0-4a42-bb78-584eee4408f6",
   "metadata": {},
   "outputs": [
    {
     "name": "stdout",
     "output_type": "stream",
     "text": [
      "Collecting s3fs\n",
      "  Downloading s3fs-2025.7.0-py3-none-any.whl.metadata (1.4 kB)\n",
      "Collecting aiobotocore<3.0.0,>=2.5.4 (from s3fs)\n",
      "  Downloading aiobotocore-2.24.1-py3-none-any.whl.metadata (25 kB)\n",
      "Collecting fsspec==2025.7.0 (from s3fs)\n",
      "  Downloading fsspec-2025.7.0-py3-none-any.whl.metadata (12 kB)\n",
      "Collecting aiohttp!=4.0.0a0,!=4.0.0a1 (from s3fs)\n",
      "  Downloading aiohttp-3.12.15-cp311-cp311-manylinux_2_17_x86_64.manylinux2014_x86_64.whl.metadata (7.7 kB)\n",
      "Collecting aioitertools<1.0.0,>=0.5.1 (from aiobotocore<3.0.0,>=2.5.4->s3fs)\n",
      "  Downloading aioitertools-0.12.0-py3-none-any.whl.metadata (3.8 kB)\n",
      "Collecting botocore<1.39.12,>=1.39.9 (from aiobotocore<3.0.0,>=2.5.4->s3fs)\n",
      "  Downloading botocore-1.39.11-py3-none-any.whl.metadata (5.7 kB)\n",
      "Requirement already satisfied: python-dateutil<3.0.0,>=2.1 in /opt/conda/lib/python3.11/site-packages (from aiobotocore<3.0.0,>=2.5.4->s3fs) (2.9.0)\n",
      "Requirement already satisfied: jmespath<2.0.0,>=0.7.1 in /opt/conda/lib/python3.11/site-packages (from aiobotocore<3.0.0,>=2.5.4->s3fs) (1.0.1)\n",
      "Collecting multidict<7.0.0,>=6.0.0 (from aiobotocore<3.0.0,>=2.5.4->s3fs)\n",
      "  Downloading multidict-6.6.4-cp311-cp311-manylinux2014_x86_64.manylinux_2_17_x86_64.manylinux_2_28_x86_64.whl.metadata (5.3 kB)\n",
      "Collecting wrapt<2.0.0,>=1.10.10 (from aiobotocore<3.0.0,>=2.5.4->s3fs)\n",
      "  Downloading wrapt-1.17.3-cp311-cp311-manylinux1_x86_64.manylinux_2_28_x86_64.manylinux_2_5_x86_64.whl.metadata (6.4 kB)\n",
      "Collecting aiohappyeyeballs>=2.5.0 (from aiohttp!=4.0.0a0,!=4.0.0a1->s3fs)\n",
      "  Downloading aiohappyeyeballs-2.6.1-py3-none-any.whl.metadata (5.9 kB)\n",
      "Collecting aiosignal>=1.4.0 (from aiohttp!=4.0.0a0,!=4.0.0a1->s3fs)\n",
      "  Downloading aiosignal-1.4.0-py3-none-any.whl.metadata (3.7 kB)\n",
      "Requirement already satisfied: attrs>=17.3.0 in /opt/conda/lib/python3.11/site-packages (from aiohttp!=4.0.0a0,!=4.0.0a1->s3fs) (24.2.0)\n",
      "Collecting frozenlist>=1.1.1 (from aiohttp!=4.0.0a0,!=4.0.0a1->s3fs)\n",
      "  Downloading frozenlist-1.7.0-cp311-cp311-manylinux_2_5_x86_64.manylinux1_x86_64.manylinux_2_17_x86_64.manylinux2014_x86_64.whl.metadata (18 kB)\n",
      "Collecting propcache>=0.2.0 (from aiohttp!=4.0.0a0,!=4.0.0a1->s3fs)\n",
      "  Downloading propcache-0.3.2-cp311-cp311-manylinux_2_17_x86_64.manylinux2014_x86_64.whl.metadata (12 kB)\n",
      "Collecting yarl<2.0,>=1.17.0 (from aiohttp!=4.0.0a0,!=4.0.0a1->s3fs)\n",
      "  Downloading yarl-1.20.1-cp311-cp311-manylinux_2_17_x86_64.manylinux2014_x86_64.whl.metadata (73 kB)\n",
      "Requirement already satisfied: typing-extensions>=4.2 in /opt/conda/lib/python3.11/site-packages (from aiosignal>=1.4.0->aiohttp!=4.0.0a0,!=4.0.0a1->s3fs) (4.12.2)\n",
      "Requirement already satisfied: urllib3!=2.2.0,<3,>=1.25.4 in /opt/conda/lib/python3.11/site-packages (from botocore<1.39.12,>=1.39.9->aiobotocore<3.0.0,>=2.5.4->s3fs) (2.2.3)\n",
      "Requirement already satisfied: six>=1.5 in /opt/conda/lib/python3.11/site-packages (from python-dateutil<3.0.0,>=2.1->aiobotocore<3.0.0,>=2.5.4->s3fs) (1.16.0)\n",
      "Requirement already satisfied: idna>=2.0 in /opt/conda/lib/python3.11/site-packages (from yarl<2.0,>=1.17.0->aiohttp!=4.0.0a0,!=4.0.0a1->s3fs) (3.10)\n",
      "Downloading s3fs-2025.7.0-py3-none-any.whl (30 kB)\n",
      "Downloading fsspec-2025.7.0-py3-none-any.whl (199 kB)\n",
      "Downloading aiobotocore-2.24.1-py3-none-any.whl (85 kB)\n",
      "Downloading aiohttp-3.12.15-cp311-cp311-manylinux_2_17_x86_64.manylinux2014_x86_64.whl (1.7 MB)\n",
      "\u001b[2K   \u001b[90m━━━━━━━━━━━━━━━━━━━━━━━━━━━━━━━━━━━━━━━━\u001b[0m \u001b[32m1.7/1.7 MB\u001b[0m \u001b[31m5.9 MB/s\u001b[0m eta \u001b[36m0:00:00\u001b[0ma \u001b[36m0:00:01\u001b[0m\n",
      "\u001b[?25hDownloading aiohappyeyeballs-2.6.1-py3-none-any.whl (15 kB)\n",
      "Downloading aioitertools-0.12.0-py3-none-any.whl (24 kB)\n",
      "Downloading aiosignal-1.4.0-py3-none-any.whl (7.5 kB)\n",
      "Downloading botocore-1.39.11-py3-none-any.whl (13.9 MB)\n",
      "\u001b[2K   \u001b[90m━━━━━━━━━━━━━━━━━━━━━━━━━━━━━━━━━━━━━━━━\u001b[0m \u001b[32m13.9/13.9 MB\u001b[0m \u001b[31m6.2 MB/s\u001b[0m eta \u001b[36m0:00:00\u001b[0m00:01\u001b[0m00:01\u001b[0m\n",
      "\u001b[?25hDownloading frozenlist-1.7.0-cp311-cp311-manylinux_2_5_x86_64.manylinux1_x86_64.manylinux_2_17_x86_64.manylinux2014_x86_64.whl (235 kB)\n",
      "Downloading multidict-6.6.4-cp311-cp311-manylinux2014_x86_64.manylinux_2_17_x86_64.manylinux_2_28_x86_64.whl (246 kB)\n",
      "Downloading propcache-0.3.2-cp311-cp311-manylinux_2_17_x86_64.manylinux2014_x86_64.whl (213 kB)\n",
      "Downloading wrapt-1.17.3-cp311-cp311-manylinux1_x86_64.manylinux_2_28_x86_64.manylinux_2_5_x86_64.whl (82 kB)\n",
      "Downloading yarl-1.20.1-cp311-cp311-manylinux_2_17_x86_64.manylinux2014_x86_64.whl (348 kB)\n",
      "Installing collected packages: wrapt, propcache, multidict, fsspec, frozenlist, aioitertools, aiohappyeyeballs, yarl, botocore, aiosignal, aiohttp, aiobotocore, s3fs\n",
      "  Attempting uninstall: fsspec\n",
      "    Found existing installation: fsspec 2024.9.0\n",
      "    Uninstalling fsspec-2024.9.0:\n",
      "      Successfully uninstalled fsspec-2024.9.0\n",
      "  Attempting uninstall: botocore\n",
      "    Found existing installation: botocore 1.40.11\n",
      "    Uninstalling botocore-1.40.11:\n",
      "      Successfully uninstalled botocore-1.40.11\n",
      "\u001b[31mERROR: pip's dependency resolver does not currently take into account all the packages that are installed. This behaviour is the source of the following dependency conflicts.\n",
      "boto3 1.40.11 requires botocore<1.41.0,>=1.40.11, but you have botocore 1.39.11 which is incompatible.\u001b[0m\u001b[31m\n",
      "\u001b[0mSuccessfully installed aiobotocore-2.24.1 aiohappyeyeballs-2.6.1 aiohttp-3.12.15 aioitertools-0.12.0 aiosignal-1.4.0 botocore-1.39.11 frozenlist-1.7.0 fsspec-2025.7.0 multidict-6.6.4 propcache-0.3.2 s3fs-2025.7.0 wrapt-1.17.3 yarl-1.20.1\n",
      "<class 'pandas.core.frame.DataFrame'>\n",
      "RangeIndex: 20 entries, 0 to 19\n",
      "Data columns (total 8 columns):\n",
      " #   Column              Non-Null Count  Dtype         \n",
      "---  ------              --------------  -----         \n",
      " 0   ('Date', '')        20 non-null     datetime64[ns]\n",
      " 1   ('Close', 'AAPL')   20 non-null     float64       \n",
      " 2   ('High', 'AAPL')    20 non-null     float64       \n",
      " 3   ('Low', 'AAPL')     20 non-null     float64       \n",
      " 4   ('Open', 'AAPL')    20 non-null     float64       \n",
      " 5   ('Volume', 'AAPL')  20 non-null     int64         \n",
      " 6   ('ticker', '')      20 non-null     object        \n",
      " 7   ingest_date         20 non-null     category      \n",
      "dtypes: category(1), datetime64[ns](1), float64(4), int64(1), object(1)\n",
      "memory usage: 1.4+ KB\n"
     ]
    }
   ],
   "source": [
    "!pip install s3fs\n",
    "\n",
    "storage_options = {\n",
    "    \"key\": MINIO_KEY,\n",
    "    \"secret\": MINIO_SECRET,\n",
    "    \"client_kwargs\": {\"endpoint_url\": MINIO_ENDPOINT},\n",
    "}\n",
    "\n",
    "df = pd.read_parquet(f\"s3://{MINIO_BUCKET}/{latest}AAPL.parquet\", storage_options=storage_options)\n",
    "#df.shape, df.head(), \n",
    "df.info()\n",
    "#df.groupby(\"ticker\")[\"Close\"].mean().round(2)\n",
    "#df.groupby(('ticker',''))[('Close','AAPL')].mean().round(2)\n",
    "\n"
   ]
  },
  {
   "cell_type": "code",
   "execution_count": 3,
   "id": "14ddb056-8950-4583-a597-61357ba2f41a",
   "metadata": {},
   "outputs": [
    {
     "data": {
      "text/plain": [
       "(pandas.core.indexes.base.Index,\n",
       " [str, str, str, str, str, str, str, str],\n",
       " [\"('Date', '')\",\n",
       "  \"('Close', 'AAPL')\",\n",
       "  \"('High', 'AAPL')\",\n",
       "  \"('Low', 'AAPL')\",\n",
       "  \"('Open', 'AAPL')\"])"
      ]
     },
     "execution_count": 3,
     "metadata": {},
     "output_type": "execute_result"
    }
   ],
   "source": [
    "df_cols = list(df.columns)\n",
    "type(df.columns), [type(c) for c in df_cols], df_cols[:5]\n"
   ]
  },
  {
   "cell_type": "code",
   "execution_count": 4,
   "id": "685b8bee-ac4c-4ef4-90f1-4be9aa4a1ef5",
   "metadata": {},
   "outputs": [
    {
     "data": {
      "text/plain": [
       "ticker\n",
       "           NaN\n",
       "AAPL    216.64\n",
       "Name: Close, dtype: float64"
      ]
     },
     "execution_count": 4,
     "metadata": {},
     "output_type": "execute_result"
    }
   ],
   "source": [
    "import ast\n",
    "import pandas as pd\n",
    "\n",
    "# 1) Normalize columns to a real 2-level MultiIndex\n",
    "def to_two_level_multiindex(df):\n",
    "    new_cols = []\n",
    "    for c in df.columns:\n",
    "        if isinstance(c, tuple) and len(c) == 2:\n",
    "            new_cols.append(c)\n",
    "        elif isinstance(c, str) and c.startswith(\"(\"):\n",
    "            try:\n",
    "                t = ast.literal_eval(c)\n",
    "                new_cols.append(t if isinstance(t, tuple) and len(t) == 2 else (str(c), \"\"))\n",
    "            except Exception:\n",
    "                new_cols.append((str(c), \"\"))\n",
    "        else:\n",
    "            new_cols.append((str(c), \"\"))\n",
    "    out = df.copy()\n",
    "    out.columns = pd.MultiIndex.from_tuples(new_cols)\n",
    "    return out\n",
    "\n",
    "df2 = to_two_level_multiindex(df)\n",
    "\n",
    "# 2) (Important) Drop or rename the original ('ticker','') to avoid name clash\n",
    "if ('ticker','') in df2.columns:\n",
    "    # either drop:\n",
    "    df2 = df2.drop(columns=[('ticker','')])\n",
    "    # or rename instead:\n",
    "    # df2 = df2.rename(columns={( 'ticker',''):('orig_ticker','')})\n",
    "\n",
    "# 3) Go tidy by stacking level-1 (tickers like 'AAPL')\n",
    "if ('Date','') in df2.columns:\n",
    "    df2 = df2.set_index(('Date',''))\n",
    "\n",
    "long = (\n",
    "    df2.stack(1)                 # brings level-1 (tickers) into rows\n",
    "       .reset_index(level=1)     # make that column explicit\n",
    "       .rename(columns={'level_1': 'ticker'})\n",
    "       .reset_index()            # bring Date back if you set it\n",
    ")\n",
    "\n",
    "# 4) Now grouping works (no duplicate 'ticker')\n",
    "long.groupby('ticker')['Close'].mean().round(2)\n"
   ]
  },
  {
   "cell_type": "code",
   "execution_count": null,
   "id": "9b3f3575-815d-4a7e-8a09-37ce45e88341",
   "metadata": {},
   "outputs": [],
   "source": []
  }
 ],
 "metadata": {
  "kernelspec": {
   "display_name": "Python 3 (ipykernel)",
   "language": "python",
   "name": "python3"
  },
  "language_info": {
   "codemirror_mode": {
    "name": "ipython",
    "version": 3
   },
   "file_extension": ".py",
   "mimetype": "text/x-python",
   "name": "python",
   "nbconvert_exporter": "python",
   "pygments_lexer": "ipython3",
   "version": "3.11.10"
  }
 },
 "nbformat": 4,
 "nbformat_minor": 5
}
